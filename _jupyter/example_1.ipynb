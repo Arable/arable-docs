{
 "cells": [
  {
   "cell_type": "code",
   "execution_count": 1,
   "metadata": {
    "collapsed": true
   },
   "outputs": [],
   "source": [
    "# for the functions\n",
    "import pandas as pd\n",
    "import numpy as np\n",
    "import requests\n",
    "from datetime import date, datetime, timedelta\n",
    "# for the tests\n",
    "from arable.client import ArableClient\n",
    "from io import StringIO\n",
    "import matplotlib.pyplot as plt"
   ]
  },
  {
   "cell_type": "code",
   "execution_count": 42,
   "metadata": {},
   "outputs": [],
   "source": [
    "# grab some mark data\n",
    "email = 'friendof@arable.com'\n",
    "device = 'A000176' \n",
    "a = ArableClient()\n",
    "a.connect(email, 'agrofuturism', 'franz_hydro')\n",
    "\n",
    "sta = \"2017-07-01\"\n",
    "end = \"2017-07-31\"\n",
    "#end = datetime.now()\n",
    "#end = end.strftime(\"%Y-%m-%dT%H:%M:%SZ\")"
   ]
  },
  {
   "cell_type": "code",
   "execution_count": 43,
   "metadata": {},
   "outputs": [],
   "source": [
    "devices = a.devices()"
   ]
  },
  {
   "cell_type": "code",
   "execution_count": 44,
   "metadata": {},
   "outputs": [],
   "source": [
    "# {k for d in devices for k in d.keys()}"
   ]
  },
  {
   "cell_type": "code",
   "execution_count": 45,
   "metadata": {},
   "outputs": [
    {
     "name": "stdout",
     "output_type": "stream",
     "text": [
      "A000780 2018-06-25T17:29:48 2018-06-25T17:29:48 2018-06-23T20:23:34\n",
      "A000493 2018-06-25T17:29:46.325000 2018-06-25T17:29:46.325000 2018-06-25T17:14:57.459000\n",
      "A000032 2018-06-25T17:29:48.358000 2018-06-25T17:29:46.229000 2018-06-24T21:25:59.057000\n",
      "A000061 2018-06-25T17:29:46 2018-06-25T17:29:46 2018-06-25T11:27:35\n",
      "A000478 2018-06-25T17:29:45.791000 2018-06-25T17:29:45.791000 2018-06-25T16:30:34.098000\n",
      "A000135 2018-06-25T17:29:45.736000 2018-06-25T17:29:45.736000 2018-06-25T15:39:30.971000\n",
      "A001086 2018-06-25T17:29:45 2018-06-25T17:29:43 2018-06-25T12:27:53\n",
      "A000470 2018-06-25T17:29:38 2018-06-25T17:29:38 2018-06-25T05:26:27\n",
      "A000421 2018-06-25T17:29:32.861000 2018-06-25T17:29:32.861000 2018-06-24T19:25:05.589000\n",
      "A001002 2018-06-25T17:29:31 2018-06-25T17:29:31 2018-06-19T23:06:30\n",
      "A000677 2018-06-25T17:29:29.900000 2018-06-25T17:29:27.883000 2018-06-19T20:12:30.173000\n",
      "B00052 2018-06-25T17:29:26.982000 2018-06-25T17:29:24.678000 2018-06-15T10:52:22.952000\n",
      "A000152 2018-06-25T17:29:24 2018-06-25T17:29:24 2018-06-24T00:22:03\n",
      "A000763 2018-06-25T17:29:22.060000 2018-06-25T17:29:19.881000 2018-06-24T02:20:32.606000\n",
      "A000829 2018-06-25T17:29:12 2018-06-25T17:29:12 2018-06-23T12:21:04\n",
      "A000934 2018-06-25T17:29:10 2018-06-25T17:29:10 2018-06-23T00:15:30\n",
      "A001050 2018-06-25T17:29:11.958000 2018-06-25T17:29:09.837000 2018-06-17T16:58:29.212000\n",
      "A000183 2018-06-25T17:29:07 2018-06-25T17:29:07 2018-06-24T15:24:37\n",
      "A000955 2018-06-25T17:28:56 2018-06-25T17:28:56 2018-06-24T03:22:15\n",
      "A000847 2018-06-25T17:28:39 2018-06-25T17:28:39 2018-06-25T09:26:05\n",
      "A000863 2018-06-25T17:28:36 2018-06-25T17:28:36 2018-06-21T11:10:33\n",
      "A000590 2018-06-25T17:28:30.803000 2018-06-25T17:28:28.439000 2018-06-13T11:48:36.630000\n",
      "A000597 2018-06-25T17:28:22 2018-06-25T17:28:22 2018-06-21T19:16:05\n",
      "A000861 2018-06-25T17:28:04.564000 2018-06-25T17:28:02.392000 2018-06-20T09:12:51.137000\n"
     ]
    }
   ],
   "source": [
    "#device = devices[0]\n",
    "for i in range(len(devices)):\n",
    "    print devices[i]['name'],  devices[i]['last_seen'],  devices[i]['last_post'], devices[i]['last_deploy']"
   ]
  },
  {
   "cell_type": "code",
   "execution_count": 46,
   "metadata": {},
   "outputs": [
    {
     "data": {
      "text/plain": [
       "u'A001069'"
      ]
     },
     "execution_count": 46,
     "metadata": {},
     "output_type": "execute_result"
    }
   ],
   "source": [
    "d = a.devices(name=device)\n",
    "d['name']"
   ]
  },
  {
   "cell_type": "code",
   "execution_count": null,
   "metadata": {
    "collapsed": true
   },
   "outputs": [],
   "source": [
    "for i = "
   ]
  },
  {
   "cell_type": "code",
   "execution_count": 4,
   "metadata": {},
   "outputs": [
    {
     "name": "stdout",
     "output_type": "stream",
     "text": [
      "A001069 2018-06-25T16:09:02 2018-06-25T16:09:02 2018-06-23T01:01:25\n"
     ]
    }
   ],
   "source": [
    "print d['name'],  d['last_seen'],  d['last_post'], d['last_deploy']"
   ]
  },
  {
   "cell_type": "code",
   "execution_count": 16,
   "metadata": {},
   "outputs": [],
   "source": [
    "sta = d['last_deploy']\n",
    "end = datetime.now()\n",
    "end = end.strftime(\"%Y-%m-%dT%H:%M:%SZ\")\n",
    "\n",
    "df = a.query(select='all', \n",
    "               format='csv', \n",
    "               devices=[device], \n",
    "               measure=\"raw\",\n",
    "               end=end, start=sta, \n",
    "               limit=10000) \n",
    "\n",
    "# df = a.query(select='all', \n",
    "#                format='csv', \n",
    "#                devices=[device], \n",
    "#                measure=\"health\", \n",
    "#                end=end, start=sta, \n",
    "#                limit=1) \n",
    "\n",
    "df = StringIO(df)\n",
    "df = pd.read_csv(df, sep=',', error_bad_lines=False)\n",
    "\n",
    "# make sure I'm using a datetime object\n",
    "df['time'] = pd.to_datetime(df['time'])\n",
    "\n",
    "# # df['RH'] = df['RH']/100.0\n",
    "# # df['P'] = P\n",
    "# # df.to_csv('A176_hourly.csv')\n",
    "\n",
    "# # data.head(2)\n",
    "# # data.tail(2)"
   ]
  },
  {
   "cell_type": "code",
   "execution_count": 51,
   "metadata": {},
   "outputs": [
    {
     "data": {
      "text/plain": [
       "0        NaN\n",
       "1        NaN\n",
       "2      17.19\n",
       "3        NaN\n",
       "4        NaN\n",
       "5        NaN\n",
       "6        NaN\n",
       "7      17.15\n",
       "8        NaN\n",
       "9        NaN\n",
       "10       NaN\n",
       "11       NaN\n",
       "12     17.09\n",
       "13       NaN\n",
       "14       NaN\n",
       "15       NaN\n",
       "16       NaN\n",
       "17     17.11\n",
       "18       NaN\n",
       "19       NaN\n",
       "20       NaN\n",
       "21       NaN\n",
       "22     17.13\n",
       "23       NaN\n",
       "24       NaN\n",
       "25       NaN\n",
       "26       NaN\n",
       "27     17.14\n",
       "28       NaN\n",
       "29       NaN\n",
       "       ...  \n",
       "863    17.52\n",
       "864    17.42\n",
       "865    17.45\n",
       "866    17.48\n",
       "867    17.57\n",
       "868    17.68\n",
       "869    17.73\n",
       "870    17.76\n",
       "871    17.88\n",
       "872    17.98\n",
       "873    18.02\n",
       "874    18.10\n",
       "875    18.21\n",
       "876    18.28\n",
       "877    18.37\n",
       "878    18.46\n",
       "879    18.58\n",
       "880    18.72\n",
       "881    18.84\n",
       "882    18.98\n",
       "883    19.09\n",
       "884    19.25\n",
       "885    19.39\n",
       "886      NaN\n",
       "887      NaN\n",
       "888    19.60\n",
       "889      NaN\n",
       "890      NaN\n",
       "891      NaN\n",
       "892    19.73\n",
       "Name: temp, Length: 893, dtype: float64"
      ]
     },
     "execution_count": 51,
     "metadata": {},
     "output_type": "execute_result"
    }
   ],
   "source": [
    "df['temp']"
   ]
  },
  {
   "cell_type": "code",
   "execution_count": 8,
   "metadata": {},
   "outputs": [
    {
     "data": {
      "text/plain": [
       "u'Very Good'"
      ]
     },
     "execution_count": 8,
     "metadata": {},
     "output_type": "execute_result"
    }
   ],
   "source": [
    "d['signal_strength']"
   ]
  },
  {
   "cell_type": "code",
   "execution_count": 9,
   "metadata": {},
   "outputs": [
    {
     "data": {
      "text/plain": [
       "{u'created': u'2018-03-23T16:33:54.619000',\n",
       " u'firmware': u'eff57fea-8cd9-4dc7-ac2e-3296e8bfc5e0',\n",
       " u'flags': [u'Orientation'],\n",
       " u'id': u'58e6ac98b4e1e886de87bb92',\n",
       " u'last_deploy': u'2018-06-23T01:01:25',\n",
       " u'last_post': u'2018-06-25T16:09:02',\n",
       " u'last_seen': u'2018-06-25T16:09:02',\n",
       " u'location': {u'id': u'5b23f1aa5d4dc70b312543cb',\n",
       "  u'name': u'1069 Bob Bendfeldt'},\n",
       " u'model': u'4',\n",
       " u'name': u'A001069',\n",
       " u'org': u'5942be02b4e1e8ced6db2c7e',\n",
       " u'owner': u'5b0443f954757d5c77c000e8',\n",
       " u'permissions': [u'599c9cc62877ba42397f5462',\n",
       "  u'5b11ba1df22caa3b450383f3',\n",
       "  u'5b280baad250685163ca95b4',\n",
       "  u'5b2983d1f22caa085e6be2ae'],\n",
       " u'reported_fw': u'Release-0.2.0.0',\n",
       " u'roles': [],\n",
       " u'signal_strength': u'Very Good',\n",
       " u'state': u'Active',\n",
       " u'sync_interval': 4,\n",
       " u'updated': u'2018-06-25T16:09:02.247000'}"
      ]
     },
     "execution_count": 9,
     "metadata": {},
     "output_type": "execute_result"
    }
   ],
   "source": [
    "d"
   ]
  },
  {
   "cell_type": "markdown",
   "metadata": {},
   "source": [
    "# Todo\n",
    "- query language shall be `mark <device>`\n",
    "- repeat back device\n",
    "- signal strength in plain language (from devices())\n",
    "- voltage (from health) \n",
    "- GPS (from health or raw)\n",
    "- T° and RH° (temp and rh from raw) - present in °F\n",
    "- for all of these get the most recent valid (non-Nan) number\n",
    "- Synced XX minutes ago\n",
    "- Deployed on XX date (skip the time)\n",
    "- you decide how to make it conversational\n",
    "\n",
    "# Extra Credit\n",
    "- short url with google map of lat/long\n",
    "- extract cell id from twilio, get its time zone, return deployed time in local time"
   ]
  },
  {
   "cell_type": "code",
   "execution_count": null,
   "metadata": {
    "collapsed": true
   },
   "outputs": [],
   "source": []
  }
 ],
 "metadata": {
  "kernelspec": {
   "display_name": "Python 2",
   "language": "python",
   "name": "python2"
  },
  "language_info": {
   "codemirror_mode": {
    "name": "ipython",
    "version": 2
   },
   "file_extension": ".py",
   "mimetype": "text/x-python",
   "name": "python",
   "nbconvert_exporter": "python",
   "pygments_lexer": "ipython2",
   "version": "2.7.14"
  }
 },
 "nbformat": 4,
 "nbformat_minor": 2
}
