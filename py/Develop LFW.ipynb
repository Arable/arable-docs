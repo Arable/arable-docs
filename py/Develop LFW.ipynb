{
 "cells": [
  {
   "cell_type": "code",
   "execution_count": null,
   "metadata": {
    "collapsed": true
   },
   "outputs": [],
   "source": [
    "%load_ext autoreload\n",
    "%autoreload 2\n",
    "\n",
    "import pandas as pd\n",
    "import numpy as np\n",
    "import requests\n",
    "from datetime import date, datetime, timedelta\n",
    "from io import StringIO\n",
    "\n",
    "from arable.client import ArableClient\n",
    "from lib.physics import *\n",
    "from lib.constants import *"
   ]
  },
  {
   "cell_type": "code",
   "execution_count": null,
   "metadata": {
    "collapsed": true
   },
   "outputs": [],
   "source": [
    "%matplotlib inline\n",
    "import matplotlib\n",
    "import matplotlib.pyplot as plt\n",
    "\n",
    "font = {'family' : 'normal',\n",
    "        'weight' : 'normal',\n",
    "        'size'   : 16}\n",
    "\n",
    "matplotlib.rc('font', **font)"
   ]
  },
  {
   "cell_type": "code",
   "execution_count": null,
   "metadata": {
    "collapsed": true
   },
   "outputs": [],
   "source": [
    "# grab some mark data\n",
    "email = 'danielle@arable.com'\n",
    "device = 'A000176' \n",
    "a = ArableClient()\n",
    "a.connect(email, 'arable1', 'arable')\n",
    "\n",
    "sta = \"2017-07-04 08:00:00\"\n",
    "end = \"2017-07-07 08:00:00\"\n",
    "#end = datetime.now()\n",
    "#end = end.strftime(\"%Y-%m-%dT%H:%M:%SZ\")\n",
    "\n",
    "\n",
    "df = a.query(select='all', \n",
    "               format='csv', devices=[device], \n",
    "               measure=\"calibrated\", \n",
    "               order=\"time\", \n",
    "               end=end, start=sta, \n",
    "               limit=10000) \n",
    "\n",
    "df = StringIO(df)\n",
    "df = pd.read_csv(df, sep=',', error_bad_lines=False)\n",
    "\n",
    "# make sure I'm using a datetime object\n",
    "df['time'] = pd.to_datetime(df['time'])\n",
    "df.index = df['time']\n",
    "\n",
    "df['RH'] = df['RH'] / 100."
   ]
  },
  {
   "cell_type": "code",
   "execution_count": null,
   "metadata": {
    "collapsed": true
   },
   "outputs": [],
   "source": [
    "df['Tdew_leaf'] = Tdew_(df['Tbelow'], df['RH'])\n",
    "df['Tdew_leaf_mk'] = df['Tdew_leaf']\n",
    "df['Wet_leaf'] = df['Tdew_leaf'] >= df['Tbelow']*0.95\n",
    "df['Tdew_air'] = Tdew_(df['Tair'], df['RH']/100)\n",
    "df['Tdew_air_mk'] = Tdew_(df['Tdew_air'], df['RH'])\n",
    "df['Wet_air'] = df['Tdew_air'] >= df['Tair']*0.95\n",
    "mask = ~df['Wet_leaf']\n",
    "df['Tdew_leaf_mk'].loc[mask] = np.nan\n",
    "\n",
    "fig, axes = plt.subplots(nrows=3, ncols=1, figsize=(12,9))\n",
    "line1, = axes[0].plot(b08.index, df['Tdew_leaf'], color='#0067B5', label = 'Tdew', linewidth=1)\n",
    "line2, = axes[0].plot(b08.index, df['Tbelow'], color='#bbbbbb', label = 'Tleaf')\n",
    "line3, = axes[0].plot(b08.index, df['Tdew_leaf_mk'], color='#ff6768', label = 'Tdew', linewidth=3)\n",
    "axes[0].set_ylabel('Temperature C')\n",
    "\n",
    "line1, = axes[1].plot(df.index, df['Wet_leaf']*1, color='#ff6768', label = 'Tdew')\n",
    "axes[1].set_ylim([-0.1, 1.1])\n",
    "axes[1].set_ylabel('Wetness')\n",
    "\n",
    "line1, = axes[2].plot(df.index, np.cumsum(df['Wet_leaf']/24), color='#ff6768', label = 'Tdew')\n",
    "axes[2].set_ylabel('Wet Days')\n"
   ]
  }
 ],
 "metadata": {
  "kernelspec": {
   "display_name": "Python 2",
   "language": "python",
   "name": "python2"
  },
  "language_info": {
   "codemirror_mode": {
    "name": "ipython",
    "version": 2
   },
   "file_extension": ".py",
   "mimetype": "text/x-python",
   "name": "python",
   "nbconvert_exporter": "python",
   "pygments_lexer": "ipython2",
   "version": "2.7.14"
  }
 },
 "nbformat": 4,
 "nbformat_minor": 2
}
