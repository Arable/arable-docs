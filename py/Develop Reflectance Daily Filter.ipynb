{
 "cells": [
  {
   "cell_type": "code",
   "execution_count": 134,
   "metadata": {},
   "outputs": [
    {
     "name": "stdout",
     "output_type": "stream",
     "text": [
      "The autoreload extension is already loaded. To reload it, use:\n",
      "  %reload_ext autoreload\n"
     ]
    }
   ],
   "source": [
    "%load_ext autoreload\n",
    "%autoreload 2\n",
    "\n",
    "import pandas as pd\n",
    "import numpy as np\n",
    "import requests\n",
    "from datetime import date, datetime, timedelta\n",
    "from io import StringIO\n",
    "\n",
    "from arable.client import ArableClient\n",
    "from lib.physics import *\n",
    "\n",
    "%matplotlib inline\n",
    "import matplotlib\n",
    "import matplotlib.pyplot as plt\n",
    "\n",
    "font = {'size'   : 12}\n",
    "\n",
    "matplotlib.rc('font', **font)"
   ]
  },
  {
   "cell_type": "code",
   "execution_count": 334,
   "metadata": {
    "collapsed": true
   },
   "outputs": [],
   "source": [
    "# grab some mark data\n",
    "email = 'danielle@arable.com'\n",
    "device = 'A000176' \n",
    "a = ArableClient()\n",
    "a.connect(email, 'arable1', 'arable')\n",
    "\n",
    "sta = \"2017-06-22 00:00:00\"\n",
    "end = \"2017-10-06 00:00:00\"\n",
    "#end = datetime.now()\n",
    "#end = end.strftime(\"%Y-%m-%dT%H:%M:%SZ\")\n",
    "\n",
    "df = a.query(select='all', \n",
    "               format='csv', devices=[device], \n",
    "               measure=\"calibrated\", \n",
    "               order=\"time\", \n",
    "               end=end, start=sta, \n",
    "               limit=30000) \n",
    "\n",
    "df = StringIO(df)\n",
    "df = pd.read_csv(df, sep=',', error_bad_lines=False)\n",
    "\n",
    "df['ts'] = df['time']\n",
    "df['time'] = pd.to_datetime(df['time'])\n",
    "df.index = df['time']"
   ]
  },
  {
   "cell_type": "code",
   "execution_count": 335,
   "metadata": {
    "collapsed": true
   },
   "outputs": [],
   "source": [
    "# correction for SWP_filter\n",
    "ab1r = -0.023376484432823724 - 0.025\n",
    "ab2r = 0.05413827524239004 - 0.025\n",
    "ab3r = 0.06772827334892995 - 0.025\n",
    "ab4r = 0.06332962505962343 - 0.025\n",
    "ab5r = 0.26198870426167015 - 0.1\n",
    "ab6r = 0.390244574048309 - 0.1\n",
    "ab7r = 0.2835035664120416 - 0.1\n",
    "bb1r = 0.02857355898033478\n",
    "bb2r = -0.06322657807079235\n",
    "bb3r = -0.07887981422051278\n",
    "bb4r = -0.07514042020677027\n",
    "bb5r = -0.30285714491760835\n",
    "bb6r = -0.4581406095226578\n",
    "bb7r = -0.3296091695063234\n",
    "\n",
    "# correction for SZA_filter\n",
    "pb1r = np.poly1d([ 0.03034586, -0.04446117,  0.0147993 ])\n",
    "pb2r = np.poly1d([-0.04922785,  0.06914522, -0.02113901])\n",
    "pb3r = np.poly1d([-0.07428615,  0.10191156, -0.02930466])\n",
    "pb4r = np.poly1d([-0.08544811,  0.12849343, -0.04502609])\n",
    "pb5r = np.poly1d([-0.19713582,  0.241687  , -0.04930455])\n",
    "pb6r = np.poly1d([-0.3009217 ,  0.37354539, -0.08035967])\n",
    "pb7r = np.poly1d([-0.2235144 ,  0.28053707, -0.0626818 ])"
   ]
  },
  {
   "cell_type": "code",
   "execution_count": 336,
   "metadata": {
    "collapsed": true
   },
   "outputs": [],
   "source": [
    "SWc = SW_azimuth_corr_(df.SWdw, df.time.dt, df.lat, df.long)\n",
    "SWP = SWpot_(df.time.dt, df.lat, df.long)\n",
    "df['SWP_filter'] = SWc / SWP\n",
    "\n",
    "psi = solar_psi_(df.time.dt, df.lat, df.long) # Solar Zenith Angle\n",
    "cospsi = np.cos(psi)\n",
    "psimax = solar_phi_(df.lat) - solar_delta_(df.time.dt, df.long)\n",
    "cospsimax = cos(psimax)\n",
    "df['SZA_filter'] = cospsi / cospsimax\n",
    "df['cospsi'] = cospsi\n",
    "\n",
    "SWP_correction=False\n",
    "if not SWP_correction:\n",
    "    df['b1r'] = df.B1uw / df.B1dw\n",
    "    df['b2r'] = df.B2uw / df.B2dw\n",
    "    df['b3r'] = df.B3uw / df.B3dw\n",
    "    df['b4r'] = df.B4uw / df.B4dw\n",
    "    df['b5r'] = df.B5uw / df.B5dw\n",
    "    df['b6r'] = df.B6uw / df.B6dw\n",
    "    df['b7r'] = df.B7uw / df.B7dw\n",
    "else:\n",
    "    df['b1r'] = df.B1uw / df.B1dw - (ab1r + bb1r*df.SWP_filter) - (pb1r(df.SZA_filter))\n",
    "    df['b2r'] = df.B2uw / df.B2dw - (ab2r + bb2r*df.SWP_filter) - (pb2r(df.SZA_filter))\n",
    "    df['b3r'] = df.B3uw / df.B3dw - (ab3r + bb3r*df.SWP_filter) - (pb3r(df.SZA_filter))\n",
    "    df['b4r'] = df.B4uw / df.B4dw - (ab4r + bb4r*df.SWP_filter) - (pb4r(df.SZA_filter))\n",
    "    df['b5r'] = df.B5uw / df.B5dw - (ab5r + bb5r*df.SWP_filter) - (pb5r(df.SZA_filter))\n",
    "    df['b6r'] = df.B6uw / df.B6dw - (ab6r + bb6r*df.SWP_filter) - (pb6r(df.SZA_filter))\n",
    "    df['b7r'] = df.B7uw / df.B7dw - (ab7r + bb7r*df.SWP_filter) - (pb7r(df.SZA_filter))\n",
    "\n",
    "dR1dt = (df.b1r-df.b1r.shift(1))/df.b1r\n",
    "dR2dt = (df.b2r-df.b2r.shift(1))/df.b2r\n",
    "dR3dt = (df.b3r-df.b3r.shift(1))/df.b3r\n",
    "dR4dt = (df.b4r-df.b4r.shift(1))/df.b4r\n",
    "dR5dt = (df.b5r-df.b5r.shift(1))/df.b5r\n",
    "dR6dt = (df.b6r-df.b6r.shift(1))/df.b6r\n",
    "dR7dt = (df.b7r-df.b7r.shift(1))/df.b7r\n",
    "\n",
    "df['dRdt'] = abs((dR1dt + dR2dt + dR3dt + dR4dt + dR5dt + dR6dt + dR7dt) / 7.)\n",
    "\n",
    "\n"
   ]
  },
  {
   "cell_type": "code",
   "execution_count": 337,
   "metadata": {
    "collapsed": true
   },
   "outputs": [],
   "source": [
    "# To get a calibration data set\n",
    "#     get a set of unique days using Grouper and Normalize\n",
    "#     day defined by solar_utc_offset calc\n",
    "#     create localtime index using timeshift\n",
    "#     iterate thru local days to collect df for each day\n",
    "#     get highest quality data and calc mean\n",
    "#     join daily table with calibrated and ffill the reflectances, careful not to contaminate days\n",
    "#     subtract reflectances from mean\n",
    "#     gather all days including looser quality data, compute regressions\n",
    "\n",
    "# To do the corrections\n",
    "#     in calibration\n",
    "#         calc reflectances\n",
    "#         apply regressions\n",
    "#         make values (uw/dw and r) nan under some criteria\n",
    "#     in aggregation\n",
    "#         in all reflectances, skip the nan checks in calc_ndvi etc\n",
    "#         add timeshifted reflectances\n",
    "#         do time difference in reflectance\n",
    "#         filter the obs using looser quality criteria\n",
    "#         compute mean or medium\n",
    "#         Group and Normalized to daily"
   ]
  },
  {
   "cell_type": "code",
   "execution_count": 338,
   "metadata": {},
   "outputs": [],
   "source": [
    "# 1. make a small df with just unique days.\n",
    "tdf = df[['time']]\n",
    "tdf.index = tdf['time']\n",
    "tdf = tdf.groupby(pd.Grouper(freq='D')).min()\n",
    "#tdf = tdf.index.normalize()\n",
    "# 2. add to this some columns for the daily band averages\n",
    "tdf['b1r_'] = tdf['b2r_'] = tdf['b3r_'] = tdf['b4r_'] = tdf['b5r_'] = tdf['b6r_'] = tdf['b7r_'] = 0.\n",
    "tdf['doy'] = doy_(tdf.index)"
   ]
  },
  {
   "cell_type": "code",
   "execution_count": 339,
   "metadata": {},
   "outputs": [],
   "source": [
    "#tdf"
   ]
  },
  {
   "cell_type": "code",
   "execution_count": 340,
   "metadata": {},
   "outputs": [],
   "source": [
    "# 3. subset a spectral df, and add a solar time column\n",
    "# even if this is not exactly accurate for solar noon, it does give the relevant 24-hour period\n",
    "sdf = df[['time','lat','long','SWdw','SWP_filter','SZA_filter','dRdt','Tair','cospsi','b1r','b2r','b3r','b4r','b5r','b6r','b7r']].copy()\n",
    "sdf.index = sdf['time']\n",
    "\n",
    "td = pd.to_timedelta(sdf.long.iloc[0]/360.*24. + eot[sdf.time.dt.dayofyear-1]/60., unit = 'h').to_pytimedelta()\n",
    "\n",
    "#sdf['solartime'] = sdf.time + pd.Timedelta(hours=(sdf.long.iloc[0]/360.*24. + eot[sdf.time.dt.dayofyear-1]/60.))\n",
    "sdf['solartime'] = sdf.time + td\n",
    "sdf['solartime'] = pd.to_datetime(sdf['solartime'])\n",
    "sdf.index = sdf['solartime']"
   ]
  },
  {
   "cell_type": "code",
   "execution_count": 341,
   "metadata": {},
   "outputs": [
    {
     "name": "stdout",
     "output_type": "stream",
     "text": [
      "2017-06-22 00:00:00 67 173.5\n",
      "2017-06-23 00:00:00 55 174.5\n",
      "2017-06-24 00:00:00 10 175.5\n",
      "2017-06-25 00:00:00 49 176.5\n",
      "2017-06-26 00:00:00 31 177.5\n",
      "2017-06-27 00:00:00 19 178.5\n",
      "2017-06-28 00:00:00 86 179.5\n",
      "2017-06-29 00:00:00 38 180.5\n",
      "2017-06-30 00:00:00 5 181.5\n",
      "2017-07-01 00:00:00 52 182.5\n",
      "2017-07-02 00:00:00 83 183.5\n",
      "2017-07-03 00:00:00 76 184.5\n",
      "2017-07-04 00:00:00 52 185.5\n",
      "2017-07-05 00:00:00 86 186.5\n",
      "2017-07-06 00:00:00 63 187.5\n",
      "2017-07-07 00:00:00 24 188.5\n",
      "2017-07-08 00:00:00 56 189.5\n",
      "2017-07-09 00:00:00 86 190.5\n",
      "2017-07-10 00:00:00 32 191.5\n",
      "2017-07-11 00:00:00 27 192.5\n",
      "2017-07-12 00:00:00 0 nan\n",
      "2017-07-13 00:00:00 26 194.5\n",
      "2017-07-14 00:00:00 31 195.5\n",
      "2017-07-15 00:00:00 40 196.5\n",
      "2017-07-16 00:00:00 25 197.5\n",
      "2017-07-17 00:00:00 11 198.5\n",
      "2017-07-18 00:00:00 33 199.5\n",
      "2017-07-19 00:00:00 30 200.5\n",
      "2017-07-20 00:00:00 15 201.5\n",
      "2017-07-21 00:00:00 46 202.5\n",
      "2017-07-22 00:00:00 1 203.5\n",
      "2017-07-23 00:00:00 46 204.5\n",
      "2017-07-24 00:00:00 41 205.5\n",
      "2017-07-25 00:00:00 35 206.5\n",
      "2017-07-26 00:00:00 0 nan\n",
      "2017-07-27 00:00:00 37 208.5\n",
      "2017-07-28 00:00:00 0 nan\n",
      "2017-07-29 00:00:00 7 210.5\n",
      "2017-07-30 00:00:00 15 211.5\n",
      "2017-07-31 00:00:00 51 212.5\n",
      "2017-08-01 00:00:00 57 213.5\n",
      "2017-08-02 00:00:00 8 214.5\n",
      "2017-08-03 00:00:00 14 215.5\n",
      "2017-08-04 00:00:00 9 216.5\n",
      "2017-08-05 00:00:00 44 217.5\n",
      "2017-08-06 00:00:00 17 218.5\n",
      "2017-08-07 00:00:00 9 219.5\n",
      "2017-08-08 00:00:00 1 220.5\n",
      "2017-08-09 00:00:00 5 221.5\n",
      "2017-08-10 00:00:00 1 222.5\n",
      "2017-08-11 00:00:00 29 223.5\n",
      "2017-08-12 00:00:00 3 224.5\n",
      "2017-08-13 00:00:00 1 225.5\n",
      "2017-08-14 00:00:00 23 226.5\n",
      "2017-08-15 00:00:00 4 227.5\n",
      "2017-08-16 00:00:00 4 228.5\n",
      "2017-08-17 00:00:00 33 229.5\n",
      "2017-08-18 00:00:00 37 230.5\n",
      "2017-08-19 00:00:00 29 231.5\n",
      "2017-08-20 00:00:00 32 232.5\n",
      "2017-08-21 00:00:00 12 233.5\n",
      "2017-08-22 00:00:00 33 234.5\n",
      "2017-08-23 00:00:00 40 235.5\n",
      "2017-08-24 00:00:00 11 236.5\n",
      "2017-08-25 00:00:00 25 237.5\n",
      "2017-08-26 00:00:00 25 238.5\n",
      "2017-08-27 00:00:00 31 239.5\n",
      "2017-08-28 00:00:00 26 240.5\n",
      "2017-08-29 00:00:00 35 241.5\n",
      "2017-08-30 00:00:00 11 242.5\n",
      "2017-08-31 00:00:00 10 243.5\n",
      "2017-09-01 00:00:00 10 244.5\n",
      "2017-09-02 00:00:00 34 245.5\n",
      "2017-09-03 00:00:00 29 246.5\n",
      "2017-09-04 00:00:00 0 nan\n",
      "2017-09-05 00:00:00 42 248.5\n",
      "2017-09-06 00:00:00 18 249.5\n",
      "2017-09-07 00:00:00 16 250.5\n",
      "2017-09-08 00:00:00 11 251.5\n",
      "2017-09-09 00:00:00 0 nan\n",
      "2017-09-10 00:00:00 18 253.5\n",
      "2017-09-11 00:00:00 22 254.5\n",
      "2017-09-12 00:00:00 25 255.5\n",
      "2017-09-13 00:00:00 20 256.5\n",
      "2017-09-14 00:00:00 6 257.5\n",
      "2017-09-15 00:00:00 21 258.5\n",
      "2017-09-16 00:00:00 6 259.5\n",
      "2017-09-17 00:00:00 22 260.5\n",
      "2017-09-18 00:00:00 20 261.5\n",
      "2017-09-19 00:00:00 1 262.5\n",
      "2017-09-20 00:00:00 30 263.5\n",
      "2017-09-21 00:00:00 29 264.5\n",
      "2017-09-22 00:00:00 11 265.5\n",
      "2017-09-23 00:00:00 0 nan\n",
      "2017-09-24 00:00:00 0 nan\n",
      "2017-09-25 00:00:00 0 nan\n",
      "2017-09-26 00:00:00 37 269.5\n",
      "2017-09-27 00:00:00 30 270.5\n",
      "2017-09-28 00:00:00 1 271.5\n",
      "2017-09-29 00:00:00 1 272.5\n",
      "2017-09-30 00:00:00 0 nan\n",
      "2017-10-01 00:00:00 37 274.5\n",
      "2017-10-02 00:00:00 9 275.5\n",
      "2017-10-03 00:00:00 53 276.5\n",
      "2017-10-04 00:00:00 0 nan\n"
     ]
    }
   ],
   "source": [
    "# 4. loop thru days in tdf, select where df.localtime == tdf.time\n",
    "    # 5a. get rid of bad data\n",
    "    # 5b. calculate average\n",
    "    # 6. write value to a col in tdf\n",
    "for i in tdf.index:\n",
    "    start = i\n",
    "    end = start + pd.Timedelta('1 days')\n",
    "    #sdf[start:end]\n",
    "    mask = (sdf['solartime'] >= start) & (sdf['solartime'] < end) & (sdf['SWP_filter'] > 0.7) & (sdf['SZA_filter'] > 0.7) & (sdf['dRdt'] < 0.01) \n",
    "    #mask = (sdf['solartime'] >= start) & (sdf['solartime'] < end) & (sdf['SZA_filter'] > 0.97) \n",
    "    idf = sdf.loc[mask].copy()\n",
    "    x = doy_(idf.solartime.dt)\n",
    "    nt = np.sum((sdf['solartime'] >= start) & (sdf['solartime'] < end))\n",
    "    nx = np.sum(mask)\n",
    "    noon = np.trunc(np.mean(x))+0.5\n",
    "    print i, nx, noon\n",
    "    \n",
    "    #fig, axes = plt.subplots(nrows=1, ncols=1, figsize=(6,6))\n",
    "\n",
    "    \n",
    "    for ib in range(1,8):\n",
    "        bxr = 'b' + str(ib) + 'r'\n",
    "        y = idf['b' + str(ib) + 'r']\n",
    "        #line1 = axes.plot(x, y)\n",
    "\n",
    "        if (nx >= 10):\n",
    "            z = np.polyfit(x, y, 2)\n",
    "            p = np.poly1d(z)\n",
    "            tdf.loc[start, 'b' + str(ib) + 'r_'] = p(np.mean(x))\n",
    "            #tdf.loc[start, 'b' + str(ib) + 'r_'] = np.median(y)\n",
    "        else:\n",
    "            tdf.loc[start, 'b' + str(ib) + 'r_'] = np.nan"
   ]
  },
  {
   "cell_type": "code",
   "execution_count": 342,
   "metadata": {},
   "outputs": [
    {
     "name": "stderr",
     "output_type": "stream",
     "text": [
      "/usr/local/Cellar/ipython@5/5.5.0_4/libexec/vendor/lib/python2.7/site-packages/ipykernel_launcher.py:12: SettingWithCopyWarning: \n",
      "A value is trying to be set on a copy of a slice from a DataFrame\n",
      "\n",
      "See the caveats in the documentation: http://pandas.pydata.org/pandas-docs/stable/indexing.html#indexing-view-versus-copy\n",
      "  if sys.path[0] == '':\n",
      "/usr/local/Cellar/ipython@5/5.5.0_4/libexec/vendor/lib/python2.7/site-packages/ipykernel_launcher.py:13: SettingWithCopyWarning: \n",
      "A value is trying to be set on a copy of a slice from a DataFrame\n",
      "\n",
      "See the caveats in the documentation: http://pandas.pydata.org/pandas-docs/stable/indexing.html#indexing-view-versus-copy\n",
      "  del sys.path[0]\n"
     ]
    }
   ],
   "source": [
    "# pre-7 make a copy of tdf for analysis\n",
    "rdf = tdf.copy()\n",
    "\n",
    "rdf['b1rm'] = (rdf.b1r_.shift(-1) + rdf.b1r_.shift(1))/2.\n",
    "rdf['b2rm'] = (rdf.b2r_.shift(-1) + rdf.b2r_.shift(1))/2.\n",
    "rdf['b3rm'] = (rdf.b3r_.shift(-1) + rdf.b3r_.shift(1))/2.\n",
    "rdf['b4rm'] = (rdf.b4r_.shift(-1) + rdf.b4r_.shift(1))/2.\n",
    "rdf['b5rm'] = (rdf.b5r_.shift(-1) + rdf.b5r_.shift(1))/2.\n",
    "rdf['b6rm'] = (rdf.b6r_.shift(-1) + rdf.b6r_.shift(1))/2.\n",
    "rdf['b7rm'] = (rdf.b7r_.shift(-1) + rdf.b7r_.shift(1))/2.\n",
    "\n",
    "rdf.b4rm[np.isnan(rdf.b4rm) & np.isfinite(rdf.b4r_)] = rdf.b4r_\n",
    "rdf.b6rm[np.isnan(rdf.b6rm) & np.isfinite(rdf.b6r_)] = rdf.b6r_\n",
    "\n",
    "ndvim = (rdf.b6rm - rdf.b4rm) / (rdf.b6rm + rdf.b4rm)"
   ]
  },
  {
   "cell_type": "code",
   "execution_count": 343,
   "metadata": {
    "scrolled": true
   },
   "outputs": [
    {
     "data": {
      "text/plain": [
       "(0, 1)"
      ]
     },
     "execution_count": 343,
     "metadata": {},
     "output_type": "execute_result"
    },
    {
     "data": {
      "image/png": "[encoded data removed]",
      "text/plain": [
       "<matplotlib.figure.Figure at 0x1123c1710>"
      ]
     },
     "metadata": {},
     "output_type": "display_data"
    }
   ],
   "source": [
    "fig, axes = plt.subplots(nrows=2, ncols=1, figsize=(12,12))\n",
    "#line1 = axes[0].plot(rdf.time, rdf.b1r_, color='#270dab', label = 'b1r')\n",
    "#line2 = axes[0].plot(rdf.time, rdf.b2r_, color='#0dab86', label = 'b2r')\n",
    "#line3 = axes[0].plot(rdf.time, rdf.b3r_, color='#a8ab0d', label = 'b3r')\n",
    "line4 = axes[0].plot(rdf.doy, rdf.b4r_, color='#b83400', label = 'b4r')\n",
    "line4 = axes[0].scatter(rdf.doy, rdf.b4r_, color='#b83400', label = 'b4r')\n",
    "\n",
    "#line5 = axes[0].plot(rdf.time, rdf.b5r_, color='#8e4629', label = 'b5r')\n",
    "line6 = axes[0].plot(rdf.doy, rdf.b6r_, color='#5c5c5c', label = 'b6r')\n",
    "line6 = axes[0].scatter(rdf.doy, rdf.b6r_, color='#5c5c5c', label = 'b6r')\n",
    "\n",
    "#line7 = axes[0].plot(rdf.time, rdf.b7r_, color='#00c2db', label = 'b7r')\n",
    "#axes[0].legend(handles=[line1, line2, line3, line4, line5, line6, line7], loc=2)\n",
    "axes[0].set_ylabel('Reflectance: %')\n",
    "axes[0].set_ylim(0,1)\n",
    "axes[0].set_xlim(np.min(rdf.doy)-1,np.max(rdf.doy)+1)\n",
    "\n",
    "ndvi = (rdf.b6r_ - rdf.b4r_) / (rdf.b6r_ + rdf.b4r_)\n",
    "\n",
    "line1 = axes[1].plot(rdf.doy, ndvi, label = 'ndvi')\n",
    "line1 = axes[1].scatter(rdf.doy, ndvi, label = 'ndvi')\n",
    "axes[1].set_xlim(np.min(rdf.doy)-1,np.max(rdf.doy)+1)\n",
    "axes[1].set_ylim(0,1)\n",
    "\n"
   ]
  },
  {
   "cell_type": "code",
   "execution_count": 344,
   "metadata": {},
   "outputs": [],
   "source": [
    "# To investigate:\n",
    "# 2017-06-28 00:00:00 86 179.5\n",
    "# 2017-06-29 00:00:00 46 180.5\n",
    "# 2017-06-30 00:00:00 10 181.5\n",
    "\n",
    "# 2017-07-07 00:00:00 26 188.5\n",
    "# 2017-07-12 00:00:00 0 nan\n"
   ]
  },
  {
   "cell_type": "code",
   "execution_count": 345,
   "metadata": {},
   "outputs": [
    {
     "data": {
      "text/plain": [
       "0.0018546797228991597"
      ]
     },
     "execution_count": 345,
     "metadata": {},
     "output_type": "execute_result"
    }
   ],
   "source": [
    "np.std(rdf.b4r_-rdf.b4rm)"
   ]
  },
  {
   "cell_type": "code",
   "execution_count": 346,
   "metadata": {},
   "outputs": [
    {
     "data": {
      "text/plain": [
       "0.007415370323361251"
      ]
     },
     "execution_count": 346,
     "metadata": {},
     "output_type": "execute_result"
    }
   ],
   "source": [
    "np.std(rdf.b6r_-rdf.b6rm)"
   ]
  },
  {
   "cell_type": "code",
   "execution_count": 347,
   "metadata": {},
   "outputs": [
    {
     "data": {
      "text/plain": [
       "0.007462673095601664"
      ]
     },
     "execution_count": 347,
     "metadata": {},
     "output_type": "execute_result"
    }
   ],
   "source": [
    "np.std(ndvi-ndvim)"
   ]
  },
  {
   "cell_type": "code",
   "execution_count": 348,
   "metadata": {},
   "outputs": [
    {
     "data": {
      "text/plain": [
       "(0, 1)"
      ]
     },
     "execution_count": 348,
     "metadata": {},
     "output_type": "execute_result"
    },
    {
     "data": {
      "image/png": "[encoded data removed]",
      "text/plain": [
       "<matplotlib.figure.Figure at 0x10edf8450>"
      ]
     },
     "metadata": {},
     "output_type": "display_data"
    }
   ],
   "source": [
    "fig, axes = plt.subplots(nrows=2, ncols=1, figsize=(12,12))\n",
    "line4 = axes[0].plot(rdf.doy, rdf.b4rm, color='#b83400', label = 'b4r')\n",
    "line4 = axes[0].scatter(rdf.doy, rdf.b4rm, color='#b83400', label = 'b4r')\n",
    "\n",
    "line4 = axes[0].plot(rdf.doy, rdf.b6rm, color='#5c5c5c', label = 'b4r')\n",
    "line4 = axes[0].scatter(rdf.doy, rdf.b6rm, color='#5c5c5c', label = 'b4r')\n",
    "\n",
    "axes[0].set_ylabel('Reflectance: %')\n",
    "axes[0].set_ylim(0,1)\n",
    "axes[0].set_xlim(np.min(rdf.doy)-1,np.max(rdf.doy)+1)\n",
    "\n",
    "ndvi = (rdf.b6r_ - rdf.b4r_) / (rdf.b6r_ + rdf.b4r_)\n",
    "\n",
    "line1 = axes[1].plot(rdf.doy, ndvim, label = 'ndvi')\n",
    "line1 = axes[1].scatter(rdf.doy, ndvim, label = 'ndvi')\n",
    "axes[1].set_xlim(np.min(rdf.doy)-1,np.max(rdf.doy)+1)\n",
    "axes[1].set_ylim(0,1)"
   ]
  },
  {
   "cell_type": "code",
   "execution_count": 349,
   "metadata": {},
   "outputs": [
    {
     "data": {
      "image/png": "[encoded data removed]",
      "text/plain": [
       "<matplotlib.figure.Figure at 0x10cbfc190>"
      ]
     },
     "metadata": {},
     "output_type": "display_data"
    }
   ],
   "source": [
    "# import matplotlib.pyplot as plt\n",
    "# import numpy as np\n",
    "# from scipy.interpolate import InterpolatedUnivariateSpline\n",
    "\n",
    "# # given values\n",
    "# xi = np.array([0.2, 0.5, 0.7, 0.9])\n",
    "# yi = np.array([0.3, -0.1, 0.2, 0.1])\n",
    "# # positions to inter/extrapolate\n",
    "# x = np.linspace(0, 1, 50)\n",
    "# # spline order: 1 linear, 2 quadratic, 3 cubic ... \n",
    "# order = 1\n",
    "# # do inter/extrapolation\n",
    "# s = InterpolatedUnivariateSpline(xi, yi, k=order)\n",
    "# y = s(x)\n",
    "\n",
    "# # example showing the interpolation for linear, quadratic and cubic interpolation\n",
    "# plt.figure()\n",
    "# plt.plot(xi, yi)\n",
    "# for order in range(1, 4):\n",
    "#     s = InterpolatedUnivariateSpline(xi, yi, k=order)\n",
    "#     y = s(x)\n",
    "#     plt.plot(x, y)\n",
    "# plt.show()"
   ]
  },
  {
   "cell_type": "code",
   "execution_count": null,
   "metadata": {
    "collapsed": true
   },
   "outputs": [],
   "source": []
  }
 ],
 "metadata": {
  "kernelspec": {
   "display_name": "Python 2",
   "language": "python",
   "name": "python2"
  },
  "language_info": {
   "codemirror_mode": {
    "name": "ipython",
    "version": 2
   },
   "file_extension": ".py",
   "mimetype": "text/x-python",
   "name": "python",
   "nbconvert_exporter": "python",
   "pygments_lexer": "ipython2",
   "version": "2.7.14"
  }
 },
 "nbformat": 4,
 "nbformat_minor": 2
}
